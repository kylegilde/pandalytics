{
 "cells": [
  {
   "cell_type": "markdown",
   "id": "2cce4bad",
   "metadata": {},
   "source": [
    "Jupyter Notebooks can be a powerful way to communicate your insightful analyses or model performance to your fellow data scientists, your manager and other higher-ups.\n",
    "\n",
    "However, it's default format of showing all code is definitely not appropriate for all your audiences.\n",
    "\n",
    "\n",
    "\n",
    "one of the most powerful and convenient tools in the data science toolbox. "
   ]
  },
  {
   "cell_type": "code",
   "execution_count": null,
   "id": "f92124d6",
   "metadata": {},
   "outputs": [],
   "source": []
  }
 ],
 "metadata": {
  "kernelspec": {
   "display_name": "Python 3 (ipykernel)",
   "language": "python",
   "name": "python3"
  },
  "language_info": {
   "codemirror_mode": {
    "name": "ipython",
    "version": 3
   },
   "file_extension": ".py",
   "mimetype": "text/x-python",
   "name": "python",
   "nbconvert_exporter": "python",
   "pygments_lexer": "ipython3",
   "version": "3.10.4"
  }
 },
 "nbformat": 4,
 "nbformat_minor": 5
}
