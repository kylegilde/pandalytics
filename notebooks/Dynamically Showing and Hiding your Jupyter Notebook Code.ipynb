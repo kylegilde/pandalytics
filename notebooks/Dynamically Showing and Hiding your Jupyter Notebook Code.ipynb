{
 "cells": [
  {
   "cell_type": "markdown",
   "id": "2cce4bad",
   "metadata": {},
   "source": [
    "Format your notebook to communicate effectively for both technical and non-technical audiences.\n",
    "\n",
    "\n",
    "A success data scientist must be able to communicate effectively with a variety of stakeholders at various levels of an organization. With your fellow data scientists, you \n",
    "\n",
    "Jupyter Notebooks can be a powerful way to communicate your insightful analyses or model performance within your business organization. \n",
    "\n",
    "However, effective communication depends upon being able to \n",
    "\n",
    "to your fellow data scientists, your manager and other higher-ups. \n",
    "\n",
    "However,it's default format of showing all code is definitely not appropriate for all your audiences. If\n",
    "\n",
    "The good news is that  with a [little HTML and Javascript](https://stackoverflow.com/a/28073228/4463701) make our notebooks \"speak\" to both data and non\n",
    "\n",
    "we create a Toggle Code button in both your .ipynb and HTML files that \n",
    "\n",
    "\n",
    "\n",
    "[harshil](https://stackoverflow.com/users/4244561/harshil)\n",
    "\n"
   ]
  },
  {
   "cell_type": "code",
   "execution_count": 5,
   "id": "f92124d6",
   "metadata": {
    "scrolled": true
   },
   "outputs": [
    {
     "data": {
      "text/html": [
       "\n",
       "        <script>\n",
       "            code_show = true;\n",
       "\n",
       "            function code_toggle() {\n",
       "                if (code_show) {\n",
       "                    $('div.input').hide();\n",
       "                } else {\n",
       "                    $('div.input').show();\n",
       "                }\n",
       "                code_show = !code_show\n",
       "            }\n",
       "            $(document).ready(code_toggle); \n",
       "        </script>\n",
       "        \n",
       "        <form action=\"javascript:code_toggle()\">\n",
       "        <input type=\"submit\" value=\"Toggle Code\"></form>\n",
       "        "
      ],
      "text/plain": [
       "<IPython.core.display.HTML object>"
      ]
     },
     "execution_count": 5,
     "metadata": {},
     "output_type": "execute_result"
    }
   ],
   "source": [
    "from IPython.display import HTML\n",
    "\n",
    "def create_code_toggle(button_name=\"Toggle Code\"):\n",
    "    \"\"\"\n",
    "    Hides your code and creates a Toggle button at the top and bottom of the notebook\n",
    "    # source: https://stackoverflow.com/a/28073228/4463701\n",
    "    \"\"\"\n",
    "\n",
    "    return HTML(\n",
    "        '''\n",
    "        <script>\n",
    "            code_show = true;\n",
    "\n",
    "            function code_toggle() {\n",
    "                if (code_show) {\n",
    "                    $('div.input').hide();\n",
    "                } else {\n",
    "                    $('div.input').show();\n",
    "                }\n",
    "                code_show = !code_show\n",
    "            }\n",
    "            $(document).ready(code_toggle); \n",
    "        </script>\n",
    "        ''' +\n",
    "        f'''\n",
    "        <form action=\"javascript:code_toggle()\">\n",
    "        <input type=\"submit\" value=\"{button_name}\"></form>\n",
    "        '''\n",
    "    )\n",
    "\n",
    "create_code_toggle()"
   ]
  }
 ],
 "metadata": {
  "kernelspec": {
   "display_name": "Python 3 (ipykernel)",
   "language": "python",
   "name": "python3"
  },
  "language_info": {
   "codemirror_mode": {
    "name": "ipython",
    "version": 3
   },
   "file_extension": ".py",
   "mimetype": "text/x-python",
   "name": "python",
   "nbconvert_exporter": "python",
   "pygments_lexer": "ipython3",
   "version": "3.10.4"
  }
 },
 "nbformat": 4,
 "nbformat_minor": 5
}
