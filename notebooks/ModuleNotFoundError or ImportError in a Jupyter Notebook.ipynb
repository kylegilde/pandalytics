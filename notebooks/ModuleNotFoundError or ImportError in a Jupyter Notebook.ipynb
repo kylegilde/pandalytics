{
 "cells": [
  {
   "cell_type": "markdown",
   "id": "7abdd4ee",
   "metadata": {},
   "source": [
    "\n",
    "\n",
    "Jupyter Notebooks are one of the most powerful and convenient tools in the data science toolbox. However, it's widely held that they promote poor coding practices. One such practice is that they don't support modularity. define\n",
    "\n",
    "If you are like me and want to be a better coder, then you've started organizing your classes and functions into modules. However, if you are also like me, then you have also experienced the problem of importing your custom modules into your notebooks!\n",
    "\n",
    "```\n",
    "project/\n",
    "    │\n",
    "    ├── src/\n",
    "    │    └── my_module/\n",
    "    │        ├── __init__.py       \n",
    "    │        └── helpers.py\n",
    "    ├── notebooks/\n",
    "    │   └── a_notebook.ipynb\n",
    " ```\n",
    " \n",
    " https://stackoverflow.com/questions/53049195/importing-custom-module-into-jupyter-notebook"
   ]
  },
  {
   "cell_type": "code",
   "execution_count": 1,
   "id": "d9287ec6",
   "metadata": {},
   "outputs": [
    {
     "ename": "ModuleNotFoundError",
     "evalue": "No module named 'pandalytics'",
     "output_type": "error",
     "traceback": [
      "\u001b[1;31m---------------------------------------------------------------------------\u001b[0m",
      "\u001b[1;31mModuleNotFoundError\u001b[0m                       Traceback (most recent call last)",
      "Cell \u001b[1;32mIn[1], line 1\u001b[0m\n\u001b[1;32m----> 1\u001b[0m \u001b[38;5;28;01mfrom\u001b[39;00m \u001b[38;5;21;01mpandalytics\u001b[39;00m\u001b[38;5;21;01m.\u001b[39;00m\u001b[38;5;21;01mcorrelation\u001b[39;00m \u001b[38;5;28;01mimport\u001b[39;00m PairwiseCorrelations\n",
      "\u001b[1;31mModuleNotFoundError\u001b[0m: No module named 'pandalytics'"
     ]
    }
   ],
   "source": [
    "from pandalytics.correlation import PairwiseCorrelations"
   ]
  },
  {
   "cell_type": "markdown",
   "id": "fd5cd508",
   "metadata": {},
   "source": [
    "Let's say that you are aware of relative imports and try putting a dot in front of your module's, but you still get an ImportError"
   ]
  },
  {
   "cell_type": "code",
   "execution_count": 2,
   "id": "4540f53b",
   "metadata": {
    "scrolled": false
   },
   "outputs": [
    {
     "ename": "ImportError",
     "evalue": "attempted relative import with no known parent package",
     "output_type": "error",
     "traceback": [
      "\u001b[1;31m---------------------------------------------------------------------------\u001b[0m",
      "\u001b[1;31mImportError\u001b[0m                               Traceback (most recent call last)",
      "Cell \u001b[1;32mIn[2], line 1\u001b[0m\n\u001b[1;32m----> 1\u001b[0m \u001b[38;5;28;01mfrom\u001b[39;00m \u001b[38;5;21;01m.\u001b[39;00m\u001b[38;5;21;01mpandalytics\u001b[39;00m\u001b[38;5;21;01m.\u001b[39;00m\u001b[38;5;21;01mcorrelation\u001b[39;00m \u001b[38;5;28;01mimport\u001b[39;00m PairwiseCorrelations\n",
      "\u001b[1;31mImportError\u001b[0m: attempted relative import with no known parent package"
     ]
    }
   ],
   "source": [
    "from .pandalytics.correlation import PairwiseCorrelations"
   ]
  },
  {
   "cell_type": "code",
   "execution_count": 3,
   "id": "21d59b1c",
   "metadata": {},
   "outputs": [],
   "source": [
    "import sys\n",
    "sys.path.append(\"..\")"
   ]
  },
  {
   "cell_type": "code",
   "execution_count": 5,
   "id": "f3f8b6c8",
   "metadata": {
    "scrolled": true
   },
   "outputs": [
    {
     "name": "stdout",
     "output_type": "stream",
     "text": [
      "\n"
     ]
    }
   ],
   "source": [
    "from pandalytics.correlation import PairwiseCorrelations\n",
    "PairwiseCorrelations()"
   ]
  },
  {
   "cell_type": "code",
   "execution_count": 15,
   "id": "2973cfa5",
   "metadata": {},
   "outputs": [
    {
     "data": {
      "text/html": [
       "<script>\n",
       "    code_show=true; \n",
       "    function code_toggle() {\n",
       "     if (code_show){\n",
       "     $('div.input').hide();\n",
       "     } else {\n",
       "     $('div.input').show();\n",
       "     }\n",
       "     code_show = !code_show\n",
       "    } \n",
       "    $( document ).ready(code_toggle);\n",
       "    </script>\n",
       "    <form action=\"javascript:code_toggle()\"><input type=\"submit\" value=\"Toggle Code\"></form>"
      ],
      "text/plain": [
       "<IPython.core.display.HTML object>"
      ]
     },
     "execution_count": 15,
     "metadata": {},
     "output_type": "execute_result"
    }
   ],
   "source": [
    "from IPython.display import HTML\n",
    "\n",
    "def create_code_toggle():\n",
    "    \"\"\"\n",
    "    Hides your code and creates a Toggle button at the top and bottom of the notebook\n",
    "        # source: https://stackoverflow.com/a/28073228/4463701\n",
    "    :return: \n",
    "    \"\"\"\n",
    "    \n",
    "    return HTML('''<script>\n",
    "    code_show=true; \n",
    "    function code_toggle() {\n",
    "     if (code_show){\n",
    "     $('div.input').hide();\n",
    "     } else {\n",
    "     $('div.input').show();\n",
    "     }\n",
    "     code_show = !code_show\n",
    "    } \n",
    "    $( document ).ready(code_toggle);\n",
    "    </script>\n",
    "    <form action=\"javascript:code_toggle()\"><input type=\"submit\" value=\"Toggle Code\"></form>''')\n",
    "\n",
    "create_code_toggle()"
   ]
  }
 ],
 "metadata": {
  "kernelspec": {
   "display_name": "Python 3 (ipykernel)",
   "language": "python",
   "name": "python3"
  },
  "language_info": {
   "codemirror_mode": {
    "name": "ipython",
    "version": 3
   },
   "file_extension": ".py",
   "mimetype": "text/x-python",
   "name": "python",
   "nbconvert_exporter": "python",
   "pygments_lexer": "ipython3",
   "version": "3.10.4"
  }
 },
 "nbformat": 4,
 "nbformat_minor": 5
}
